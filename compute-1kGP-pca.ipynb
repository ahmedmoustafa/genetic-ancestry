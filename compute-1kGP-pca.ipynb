{
 "cells": [
  {
   "cell_type": "markdown",
   "id": "37b4a657",
   "metadata": {},
   "source": [
    "# Compute Principal Component Analysis (PCA) of 1kGP"
   ]
  },
  {
   "cell_type": "markdown",
   "id": "2d68dae1",
   "metadata": {},
   "source": [
    "This notebook outlines the steps to perform a Principal Component Analysis (PCA) on the 1k Genomes Project (1kGP) data. The procedure includes:\n",
    "- Converting the VCF file into PLINK binary format.\n",
    "- Conducting PCA on the binary data using PLINK.\n"
   ]
  },
  {
   "cell_type": "code",
   "execution_count": 1,
   "id": "0759448c-12a9-489c-9adb-f4cbc62202a0",
   "metadata": {},
   "outputs": [
    {
     "name": "stdout",
     "output_type": "stream",
     "text": [
      "PLINK v1.90b7 64-bit (16 Jan 2023)             www.cog-genomics.org/plink/1.9/\n",
      "(C) 2005-2023 Shaun Purcell, Christopher Chang   GNU General Public License v3\n",
      "Logging to working/1kGP_plink.log.\n",
      "Options in effect:\n",
      "  --make-bed\n",
      "  --out working/1kGP_plink\n",
      "  --vcf data/1kGP.fingerprinting.vcf.gz\n",
      "\n",
      "515606 MB RAM detected; reserving 257803 MB for main workspace.\n",
      "--vcf: working/1kGP_plink-temporary.bed + working/1kGP_plink-temporary.bim +\n",
      "working/1kGP_plink-temporary.fam written.\n",
      "8687 variants loaded from .bim file.\n",
      "3202 people (0 males, 0 females, 3202 ambiguous) loaded from .fam.\n",
      "Ambiguous sex IDs written to working/1kGP_plink.nosex .\n",
      "Using 1 thread (no multithreaded calculations invoked).\n",
      "Before main variant filters, 3202 founders and 0 nonfounders present.\n",
      "Calculating allele frequencies... 10111213141516171819202122232425262728293031323334353637383940414243444546474849505152535455565758596061626364656667686970717273747576777879808182838485868788899091929394959697989 done.\n",
      "Total genotyping rate is in [0.9999995, 1).\n",
      "8687 variants and 3202 people pass filters and QC.\n",
      "Note: No phenotypes present.\n",
      "--make-bed to working/1kGP_plink.bed + working/1kGP_plink.bim +\n",
      "working/1kGP_plink.fam ... 101112131415161718192021222324252627282930313233343536373839404142434445464748495051525354555657585960616263646566676869707172737475767778798081828384858687888990919293949596979899done.\n"
     ]
    }
   ],
   "source": [
    "# Convert VCF to PLINK binary format\n",
    "plink --vcf data/1kGP.fingerprinting.vcf.gz --make-bed --out working/1kGP_plink"
   ]
  },
  {
   "cell_type": "code",
   "execution_count": 2,
   "id": "db5433ca-d049-46cf-857c-4a441fc6941d",
   "metadata": {},
   "outputs": [
    {
     "name": "stdout",
     "output_type": "stream",
     "text": [
      "working/1kGP_plink.bed  working/1kGP_plink.fam  working/1kGP_plink.nosex\n",
      "working/1kGP_plink.bim  working/1kGP_plink.log\n"
     ]
    }
   ],
   "source": [
    "# List the generated PLINK binary files\n",
    "ls working/1kGP_plink*"
   ]
  },
  {
   "cell_type": "code",
   "execution_count": 3,
   "id": "d52f9952-a251-4661-86f1-ba700e2ca153",
   "metadata": {},
   "outputs": [
    {
     "name": "stdout",
     "output_type": "stream",
     "text": [
      "PLINK v1.90b7 64-bit (16 Jan 2023)             www.cog-genomics.org/plink/1.9/\n",
      "(C) 2005-2023 Shaun Purcell, Christopher Chang   GNU General Public License v3\n",
      "Logging to working/1kGP_pca.log.\n",
      "Options in effect:\n",
      "  --bfile working/1kGP_plink\n",
      "  --out working/1kGP_pca\n",
      "  --pca 10\n",
      "\n",
      "515606 MB RAM detected; reserving 257803 MB for main workspace.\n",
      "8687 variants loaded from .bim file.\n",
      "3202 people (0 males, 0 females, 3202 ambiguous) loaded from .fam.\n",
      "Ambiguous sex IDs written to working/1kGP_pca.nosex .\n",
      "Using up to 191 threads (change this with --threads).\n",
      "Before main variant filters, 3202 founders and 0 nonfounders present.\n",
      "Calculating allele frequencies... 10111213141516171819202122232425262728293031323334353637383940414243444546474849505152535455565758596061626364656667686970717273747576777879808182838485868788899091929394959697989 done.\n",
      "Total genotyping rate is in [0.9999995, 1).\n",
      "8687 variants and 3202 people pass filters and QC.\n",
      "Note: No phenotypes present.\n",
      "Relationship matrix calculation complete.\n",
      "--pca: Results saved to working/1kGP_pca.eigenval and working/1kGP_pca.eigenvec\n",
      ".\n"
     ]
    }
   ],
   "source": [
    "# Perform PCA on the PLINK binary data\n",
    "plink --bfile working/1kGP_plink --pca 10 --out working/1kGP_pca"
   ]
  },
  {
   "cell_type": "code",
   "execution_count": 4,
   "id": "14237378-ffa0-48c6-ace7-acbcb1c68eea",
   "metadata": {},
   "outputs": [
    {
     "name": "stdout",
     "output_type": "stream",
     "text": [
      "working/1kGP_pca.eigenval  working/1kGP_pca.log\n",
      "working/1kGP_pca.eigenvec  working/1kGP_pca.nosex\n"
     ]
    }
   ],
   "source": [
    "# List the generated PCA files\n",
    "ls working/1kGP_pca*"
   ]
  },
  {
   "cell_type": "code",
   "execution_count": 5,
   "id": "41d619a5-d6a0-4461-b455-be88e0496e38",
   "metadata": {},
   "outputs": [
    {
     "name": "stdout",
     "output_type": "stream",
     "text": [
      "HG00096 HG00096 -0.00979116 0.0246988 0.0030017 0.0175045 -0.000177201 -0.0215443 -0.00710697 0.0040074 -0.0118802 -0.00355934\n",
      "HG00097 HG00097 -0.00860299 0.0246735 0.00216549 0.0173607 -0.00553673 0.00307645 -0.0026379 9.36712e-05 0.00774549 0.00669956\n",
      "HG00099 HG00099 -0.00940134 0.0242093 0.00428509 0.020703 -0.00727684 -0.0173237 -0.00154378 -0.00440629 -0.00473937 0.00448401\n",
      "HG00100 HG00100 -0.00974342 0.0227575 -0.00062867 0.0176841 -0.00821521 -0.0113509 -0.00653149 0.0004087 -0.00456923 -0.00936117\n",
      "HG00101 HG00101 -0.00949396 0.0236118 0.00404194 0.0183175 0.000795819 -0.014901 -0.00882091 0.00770109 0.00246361 0.0284314\n",
      "HG00102 HG00102 -0.0100465 0.0232639 0.00285737 0.0144682 -0.00136625 -0.0188499 0.00368535 -0.0134158 -6.3343e-05 -0.00326615\n",
      "HG00103 HG00103 -0.00922797 0.024111 0.00111021 0.0167639 0.00386243 -0.0146263 -0.00929536 0.00098754 -0.00662425 0.00630826\n",
      "HG00105 HG00105 -0.00962561 0.023225 0.00578964 0.0173585 -0.0102911 -0.0126562 -0.00592642 0.0171561 -0.00673935 -0.0184665\n",
      "HG00106 HG00106 -0.00990674 0.0245735 0.00149484 0.0158089 0.00426884 -0.00357619 0.0105803 0.0178715 0.00732623 0.0158867\n",
      "HG00107 HG00107 -0.00999901 0.0247208 0.00302135 0.01684 -0.00114649 -0.00873747 0.00169736 -0.0107142 -0.0126882 0.00830247\n"
     ]
    }
   ],
   "source": [
    "# Display the top rows of the PCA eigenvec file\n",
    "head working/1kGP_pca.eigenvec"
   ]
  },
  {
   "cell_type": "code",
   "execution_count": 6,
   "id": "f16b5659-5f5a-40f2-8338-59e8ac46ebbf",
   "metadata": {},
   "outputs": [
    {
     "name": "stdout",
     "output_type": "stream",
     "text": [
      "346.994\n",
      "151.246\n",
      "42.584\n",
      "31.4449\n",
      "5.55535\n",
      "5.18856\n",
      "4.60066\n",
      "3.37955\n",
      "3.36628\n",
      "3.2925\n"
     ]
    }
   ],
   "source": [
    "# Display the top rows of the PCA eigenval file\n",
    "head working/1kGP_pca.eigenval"
   ]
  }
 ],
 "metadata": {
  "kernelspec": {
   "display_name": "Bash",
   "language": "bash",
   "name": "bash"
  },
  "language_info": {
   "codemirror_mode": "shell",
   "file_extension": ".sh",
   "mimetype": "text/x-sh",
   "name": "bash"
  }
 },
 "nbformat": 4,
 "nbformat_minor": 5
}
